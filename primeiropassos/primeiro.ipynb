{
 "cells": [
  {
   "cell_type": "code",
   "execution_count": 1,
   "id": "e6a50477-bd3c-45d5-a5a0-11e4302fa921",
   "metadata": {},
   "outputs": [
    {
     "name": "stdout",
     "output_type": "stream",
     "text": [
      "1\n",
      "3.13\n",
      "python\n",
      "False\n"
     ]
    }
   ],
   "source": [
    "#Criar uma variável tipo inteira \n",
    "x = 1\n",
    "print(x)\n",
    "#Criar uma variável do tipo float\n",
    "y = 3.13\n",
    "print(y)\n",
    "#criar uma variável do tipo string\n",
    "m = \"python\"\n",
    "m = 'python'\n",
    "print(m)\n",
    "#criar uma variável do tipo logica \n",
    "w = True\n",
    "y = False\n",
    "print(y)"
   ]
  },
  {
   "cell_type": "code",
   "execution_count": 2,
   "id": "93354bd5-1a85-4b54-9033-8bad57aa6b40",
   "metadata": {},
   "outputs": [
    {
     "name": "stdout",
     "output_type": "stream",
     "text": [
      "30.0\n"
     ]
    }
   ],
   "source": [
    "#Calculo \n",
    "x = 10\n",
    "y = 20\n",
    "z = 100\n",
    "w = (x+y)*z/100\n",
    "print(w)"
   ]
  },
  {
   "cell_type": "code",
   "execution_count": 5,
   "id": "2be23f1a-a5e0-4fc9-894b-54297a5bf446",
   "metadata": {},
   "outputs": [
    {
     "name": "stdout",
     "output_type": "stream",
     "text": [
      "esse texto será impressor no console\n",
      "10\n",
      "Texto e duas vareáveis:  10 , 100\n"
     ]
    }
   ],
   "source": [
    "#Exibir textono console\n",
    "print(\"esse texto será impressor no console\")\n",
    "print(x)\n",
    "print(\"Texto e duas vareáveis: \",x,\",\",z)  "
   ]
  },
  {
   "cell_type": "code",
   "execution_count": 5,
   "id": "db789374-23b7-42b6-8607-e32884e8238a",
   "metadata": {},
   "outputs": [
    {
     "name": "stdout",
     "output_type": "stream",
     "text": [
      "esse texto será impressor no console\n",
      "10\n",
      "Texto e duas vareáveis:  10 , 100\n"
     ]
    }
   ],
   "source": [
    "#Exibir textono console\n",
    "print(\"esse texto será impressor no console\")\n",
    "print(x)\n",
    "print(\"Texto e duas vareáveis: \",x,\",\",z)  "
   ]
  },
  {
   "cell_type": "code",
   "execution_count": 5,
   "id": "b734e86f-8386-440c-914b-4e8fa3ba9dbc",
   "metadata": {},
   "outputs": [
    {
     "name": "stdout",
     "output_type": "stream",
     "text": [
      "esse texto será impressor no console\n",
      "10\n",
      "Texto e duas vareáveis:  10 , 100\n"
     ]
    }
   ],
   "source": [
    "#Exibir textono console\n",
    "print(\"esse texto será impressor no console\")\n",
    "print(x)\n",
    "print(\"Texto e duas vareáveis: \",x,\",\",z)  "
   ]
  },
  {
   "cell_type": "code",
   "execution_count": 6,
   "id": "98bc263b-8bdd-4540-980f-98f0850a7c78",
   "metadata": {},
   "outputs": [
    {
     "name": "stdout",
     "output_type": "stream",
     "text": [
      "<class 'int'>\n",
      "<class 'str'>\n"
     ]
    }
   ],
   "source": [
    "#Verifiacar o tipo de objeto\n",
    "print(type(x))\n",
    "print(type(m))"
   ]
  },
  {
   "cell_type": "code",
   "execution_count": 12,
   "id": "30435527-627b-4cea-ba82-a785a119849a",
   "metadata": {},
   "outputs": [
    {
     "name": "stdout",
     "output_type": "stream",
     "text": [
      "informe o valor: \n"
     ]
    },
    {
     "name": "stdout",
     "output_type": "stream",
     "text": [
      " 10\n"
     ]
    },
    {
     "name": "stdout",
     "output_type": "stream",
     "text": [
      "<class 'str'>\n"
     ]
    }
   ],
   "source": [
    "#entrada de dados \n",
    "print(\"informe o valor: \") \n",
    "i = input()\n",
    "#Mostra do tipo string\n",
    "print(type(i))"
   ]
  },
  {
   "cell_type": "code",
   "execution_count": 13,
   "id": "4038eaf6-1d31-42a2-a85c-038335dc0787",
   "metadata": {},
   "outputs": [
    {
     "name": "stdout",
     "output_type": "stream",
     "text": [
      "informe o valor: \n"
     ]
    },
    {
     "name": "stdout",
     "output_type": "stream",
     "text": [
      " 10\n",
      "mostre o valor:  20\n"
     ]
    }
   ],
   "source": [
    "#Entra com valor msg junto e separada\n",
    "print(\"informe o valor: \")\n",
    "i = input()\n",
    "#ou\n",
    "i = input(\"mostre o valor: \")"
   ]
  },
  {
   "cell_type": "code",
   "execution_count": 15,
   "id": "969e8855-355c-4984-bcd7-01ce2d865064",
   "metadata": {},
   "outputs": [
    {
     "name": "stdout",
     "output_type": "stream",
     "text": [
      "informe o valor:  10\n"
     ]
    },
    {
     "name": "stdout",
     "output_type": "stream",
     "text": [
      "<class 'str'>\n",
      "<class 'int'>\n"
     ]
    }
   ],
   "source": [
    "#conversão de valores para inteiro\n",
    "var = input(\"informe o valor: \")\n",
    "print(type(var))\n",
    "var = int(var)\n",
    "print(type(var))"
   ]
  },
  {
   "cell_type": "code",
   "execution_count": 16,
   "id": "2a11ed09-35a5-4460-b393-2c863eb767b3",
   "metadata": {},
   "outputs": [
    {
     "name": "stdout",
     "output_type": "stream",
     "text": [
      "informe o valor:  20.3\n"
     ]
    },
    {
     "name": "stdout",
     "output_type": "stream",
     "text": [
      "<class 'str'>\n",
      "<class 'float'>\n"
     ]
    }
   ],
   "source": [
    "#para float\n",
    "var = input(\"informe o valor: \")\n",
    "print(type(var))\n",
    "var = float(var)\n",
    "print(type(var))"
   ]
  },
  {
   "cell_type": "code",
   "execution_count": 17,
   "id": "00233989-0cfe-4024-8f3d-ddf09d8c7bdf",
   "metadata": {},
   "outputs": [],
   "source": [
    "#Esse texto e um cometario\n",
    "x = 10 #cometario "
   ]
  }
 ],
 "metadata": {
  "kernelspec": {
   "display_name": "Python 3 (ipykernel)",
   "language": "python",
   "name": "python3"
  },
  "language_info": {
   "codemirror_mode": {
    "name": "ipython",
    "version": 3
   },
   "file_extension": ".py",
   "mimetype": "text/x-python",
   "name": "python",
   "nbconvert_exporter": "python",
   "pygments_lexer": "ipython3",
   "version": "3.10.9"
  }
 },
 "nbformat": 4,
 "nbformat_minor": 5
}
